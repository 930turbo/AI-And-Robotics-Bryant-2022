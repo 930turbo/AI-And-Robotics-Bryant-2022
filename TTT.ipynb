{
 "cells": [
  {
   "cell_type": "code",
   "execution_count": null,
   "id": "cacd2092-8c3e-4f5c-af2b-44f8d703635e",
   "metadata": {},
   "outputs": [],
   "source": [
    "# Import Game Library\n",
    "from Game import *"
   ]
  },
  {
   "cell_type": "code",
   "execution_count": null,
   "id": "64c3a093-2d96-42a5-81b1-7e1fc08537e8",
   "metadata": {
    "tags": []
   },
   "outputs": [],
   "source": [
    "# Create function to create the initial state of the game\n",
    "def initial_state():\n",
    "    state = Board(5,5)\n",
    "    \n",
    "    return state"
   ]
  },
  {
   "cell_type": "code",
   "execution_count": null,
   "id": "04d33b27-3d01-40b2-bb8b-f765cfe0e9bf",
   "metadata": {},
   "outputs": [],
   "source": [
    "initial_state()"
   ]
  },
  {
   "cell_type": "code",
   "execution_count": null,
   "id": "01734fa6-18a7-46ea-b94d-cf74a46ed3de",
   "metadata": {},
   "outputs": [],
   "source": [
    "# Create function to detmine what valid moves are in a set range, this range being 25\n",
    "def valid_moves(state, player):\n",
    "    moves = []\n",
    "    moves = []\n",
    "    \n",
    "    for location in range(25):\n",
    "        if state[location]==0:\n",
    "            moves.append(location)\n",
    "    return moves"
   ]
  },
  {
   "cell_type": "code",
   "execution_count": null,
   "id": "95cf353a-b739-45b5-a0b8-63f53a5baa66",
   "metadata": {},
   "outputs": [],
   "source": [
    "# Create board state and test different positions\n",
    "state = Board(5,5)\n",
    "# state[1] = 1\n",
    "# state[3] = 2\n",
    "# state[5] = 2\n",
    "# state[7] = 1\n",
    "\n",
    "print(state)\n",
    "valid_moves(state, 1)"
   ]
  },
  {
   "cell_type": "code",
   "execution_count": null,
   "id": "dc6d9658-9615-4ebd-9536-6ccb86c89eaa",
   "metadata": {},
   "outputs": [],
   "source": [
    "# Create function to determine what a new state of the game will look like. In this case an update state occurs once the human player or machine player has made a move on the board\n",
    "def update_state(state, player, move):\n",
    "    new_state = state\n",
    "    new_state[move] = player\n",
    "    return new_state"
   ]
  },
  {
   "cell_type": "code",
   "execution_count": null,
   "id": "acace1bb-ea3b-4118-b2d4-e91be1ae8705",
   "metadata": {},
   "outputs": [],
   "source": [
    "# Create function to determine what five in the row will look like (meaning that all five locations a-c have a move set by the player\n",
    "def five_in_a_row(a, b, c, player):\n",
    "    if a == player and b == player and c == player and d == player and e == player:\n",
    "        return True\n",
    "    else:\n",
    "        return False\n",
    "\n",
    "# Create function to determine what a win looks like. We start by defining what the player numbers are (if 1 than 2 if 2 than 1) followed by all possibilities for five in a row!\n",
    "def win_status(status, player):\n",
    "    if player == 1:\n",
    "        other_player = 2\n",
    "    else:\n",
    "        other_player = 1\n",
    "\n",
    "# Here we see the possibilities for five in a row. We use states (starting at our base of 0) to determine player position and what combinations the 'player' has to make to be counted as a game 'win'\n",
    "\n",
    "# This code controls each win state from right to left / left to right\n",
    "    if five_in_a_row(state[0], state[1], state[2], state[3], state[4], player):\n",
    "        return 'win'\n",
    "    if five_in_a_row(state[5], state[6], state[7], state[8], state[9], player):\n",
    "        return 'win'\n",
    "    if five_in_a_row(state[10], state[11], state[12], state[13], state[14], player):\n",
    "        return 'win'\n",
    "    if five_in_a_row(state[15], state[16], state[17], state[18], state[19], player):\n",
    "        return 'win'\n",
    "    if five_in_a_row(state[20], state[21], state[22], state[23], state[24], player):\n",
    "        return 'win'\n",
    "\n",
    "# This code controls each win state from top to bottom / bottom to top\n",
    "    if five_in_a_row(state[0], state[5], state[10], state[15], state[20], player):\n",
    "        return 'win'\n",
    "    if five_in_a_row(state[1], state[6], state[11], state[16], state[21], player):\n",
    "        return 'win'\n",
    "    if five_in_a_row(state[2], state[7], state[13], state[17], state[22], player):\n",
    "        return 'win'\n",
    "    if five_in_a_row(state[3], state[8], state[14], state[18], state[23], player):\n",
    "        return 'win'\n",
    "    if five_in_a_row(state[4], state[9], state[15], state[19], state[24], player):\n",
    "        return 'win'\n",
    "    \n",
    " # This code controls each win state from Diagonals to Diagonals / Diagonals to Diagonals\n",
    "    if five_in_a_row(state[0], state[6], state[12], state[18], state[24], player):\n",
    "        return 'win'\n",
    "    if five_in_a_row(state[20], state[16], state[12], state[8], state[4], player):\n",
    "        return 'win'\n",
    "\n",
    "# This code controls each win state for a diamond pattern\n",
    "    if five_in_a_row(state[1], state[5], state[11], state[7], player):\n",
    "        return 'win'\n",
    "    if five_in_a_row(state[2], state[6], state[12], state[8], player):\n",
    "        return 'win'\n",
    "    if five_in_a_row(state[3], state[7], state[13], state[9], player):\n",
    "        return 'win'\n",
    "    if five_in_a_row(state[6], state[10], state[16], state[12], player):\n",
    "        return 'win'\n",
    "    if five_in_a_row(state[7], state[11], state[17], state[13], player):\n",
    "        return 'win'\n",
    "    if five_in_a_row(state[8], state[12], state[18], state[14], player):\n",
    "        return 'win'\n",
    "    if five_in_a_row(state[11], state[15], state[21], state[17], player):\n",
    "        return 'win'\n",
    "    if five_in_a_row(state[12], state[16], state[22], state[18], player):\n",
    "        return 'win'\n",
    "    if five_in_a_row(state[13], state[17], state[23], state[19], player):\n",
    "        return 'win'\n",
    "    \n",
    "# If there are no more valid positions that may win the game, the game will return the stalemate output notifying the players that the game will not conclude in a one sided victory\n",
    "    if not valid_moves(state, other_player):\n",
    "        return 'stalemate'\n",
    "    \n",
    "# Print the board state\n",
    "def show_state(state):\n",
    "    print(state)"
   ]
  },
  {
   "cell_type": "code",
   "execution_count": null,
   "id": "02575cbe-064f-4309-b59b-cabbaaab77cc",
   "metadata": {},
   "outputs": [],
   "source": [
    "# Create function that determines that the agent will do. The agent is trying to get 3 in a row, albeit poorly seeing its more random than anything, and we're trying to react to its incompetence \n",
    "def random_move(state, player):\n",
    "    moves = valid_moves(state, player)\n",
    "    return random.choice(moves)\n",
    "# The random_agent is just an agent that follows a set of random moves.... mind blown, I know\n",
    "random_agent = Agent(random_move)"
   ]
  },
  {
   "cell_type": "code",
   "execution_count": null,
   "id": "a8abf198-e77d-4313-8cd3-e5f76e42adb0",
   "metadata": {},
   "outputs": [],
   "source": [
    "# Here we define a human player move, basically just asking for an input from the player to determine what they are doing (where they want to move) from a valid position 0-24\n",
    "def human_move(state, player):\n",
    "    for i in range(5):\n",
    "        move = int(input(\"Pick a move! Your choices begin at 0 dictating a choice for position (1,1) and 1 dictating a choice at (2,1)   \"))\n",
    "\n",
    "        if move in valid_moves(state, player):\n",
    "            return move\n",
    "        else:\n",
    "            print(\"Unrecognized move, please enter another position!\")\n",
    "            \n",
    "    return None\n",
    "\n",
    "human_agent = Agent(human_move)"
   ]
  },
  {
   "cell_type": "code",
   "execution_count": null,
   "id": "316971f7-3f1a-4a0b-af3a-22c6025f0263",
   "metadata": {},
   "outputs": [],
   "source": [
    "# Create game state and then run the human against the agent starting with the humans move\n",
    "g = Game()\n",
    "g.run(human_agent, random_agent)"
   ]
  }
 ],
 "metadata": {
  "kernelspec": {
   "display_name": "Python 3 (ipykernel)",
   "language": "python",
   "name": "python3"
  },
  "language_info": {
   "codemirror_mode": {
    "name": "ipython",
    "version": 3
   },
   "file_extension": ".py",
   "mimetype": "text/x-python",
   "name": "python",
   "nbconvert_exporter": "python",
   "pygments_lexer": "ipython3",
   "version": "3.9.7"
  }
 },
 "nbformat": 4,
 "nbformat_minor": 5
}
